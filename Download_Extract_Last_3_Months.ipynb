{
 "cells": [
  {
   "cell_type": "code",
   "execution_count": 1,
   "id": "be70f013",
   "metadata": {},
   "outputs": [],
   "source": [
    "import requests\n",
    "import datetime\n",
    "from dateutil.relativedelta import relativedelta \n",
    "import zipfile\n",
    "from zipfile import BadZipFile\n",
    "import os\n",
    "import io"
   ]
  },
  {
   "cell_type": "code",
   "execution_count": null,
   "id": "a247be3c",
   "metadata": {},
   "outputs": [],
   "source": [
    "#Download and extract the number of complete months according to parameter\n",
    "def dl_extract(num_mos):\n",
    "    #create the url list oaf the last 6 months available\n",
    "    url_list = []\n",
    "    for n in range (1, num_mos+1):\n",
    "        date = datetime.date.today() - relativedelta(months=n)\n",
    "        url = f'https://s3.amazonaws.com/tripdata/{date.year}{str(date.month).zfill(2)}-citibike-tripdata.csv.zip'\n",
    "        url_list.append(url)\n",
    "\n",
    "    #create folder called citibike_data if does not exist\n",
    "    if not os.path.exists('citibike_data'):\n",
    "        os.mkdir('citibike_data')\n",
    "        \n",
    "    #Pull the zip files and unzip them\n",
    "    for url in url_list:\n",
    "        url_split = url.split('/')\n",
    "        filename = str(url_split[-1])\n",
    "        req = requests.get(url)\n",
    "        try:\n",
    "            z = zipfile.ZipFile(io.BytesIO(req.content))\n",
    "            z.extractall('citibike_data')\n",
    "            print(f'Success! Downloaded and Extracted {filename}')\n",
    "        except BadZipFile:\n",
    "            print(f'no zip file exists for {filename}')\n",
    "\n",
    "    print('Download and extraction complete')"
   ]
  },
  {
   "cell_type": "code",
   "execution_count": null,
   "id": "e876e0a9",
   "metadata": {},
   "outputs": [],
   "source": [
    "dl_extract(3)"
   ]
  }
 ],
 "metadata": {
  "kernelspec": {
   "display_name": "Python 3 (ipykernel)",
   "language": "python",
   "name": "python3"
  },
  "language_info": {
   "codemirror_mode": {
    "name": "ipython",
    "version": 3
   },
   "file_extension": ".py",
   "mimetype": "text/x-python",
   "name": "python",
   "nbconvert_exporter": "python",
   "pygments_lexer": "ipython3",
   "version": "3.11.4"
  }
 },
 "nbformat": 4,
 "nbformat_minor": 5
}
