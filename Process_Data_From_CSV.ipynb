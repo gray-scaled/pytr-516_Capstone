{
 "cells": [
  {
   "cell_type": "code",
   "execution_count": 1,
   "id": "ebfb818d",
   "metadata": {},
   "outputs": [],
   "source": [
    "import os\n",
    "import pandas as pd"
   ]
  },
  {
   "cell_type": "code",
   "execution_count": null,
   "id": "33cf1e27",
   "metadata": {},
   "outputs": [],
   "source": [
    "def process_rawdata(file):\n",
    "    #read in file, group by station id in start and end\n",
    "    df = pd.read_csv('citibike_data/'+file, low_memory=False)\n",
    "    \n",
    "    #group by start and end station id. lat and lng data is specific to the dock so there is more than one latitdude and longitude per station. \n",
    "    #For mapping purposes, I averaged the latitudes and longitudes separately.\n",
    "    df_starts = df.groupby('start_station_id', as_index=False).agg({'ride_id':'count', 'start_lat':'mean','start_lng':'mean'})\n",
    "    df_ends = df.groupby('end_station_id', as_index=False).agg({'ride_id':'count', 'end_lat':'mean','end_lng':'mean'})   \n",
    "\n",
    "    #rename the columns\n",
    "    df_starts.rename(columns={'start_station_id':'station_id', 'ride_id':'ride_count', 'start_lat':'lat', 'start_lng':'lng'}, inplace=True)\n",
    "    df_ends.rename(columns={'end_station_id':'station_id', 'ride_id':'ride_count', 'end_lat':'lat', 'end_lng':'lng'}, inplace=True)\n",
    "    \n",
    "    #concatenate the starts and ends, then groupby station\n",
    "    df_list = [df_starts, df_ends]\n",
    "    df_startend = pd.concat(df_list)\n",
    "    df_merged = df_startend.groupby('station_id', as_index=False).agg({'ride_count':'sum', 'lat':'mean','lng':'mean'})\n",
    "    df_merged.sort\n",
    "    \n",
    "    #check for folder and create it, save to csv\n",
    "    if not os.path.exists('processed_data'):\n",
    "        os.mkdir('processed_data')\n",
    "    df_merged.to_csv('processed_data/PROCESSED_'+file)"
   ]
  },
  {
   "cell_type": "code",
   "execution_count": null,
   "id": "674f4b66",
   "metadata": {},
   "outputs": [],
   "source": [
    "#create file list\n",
    "file_list = []\n",
    "[file_list.append(csv) for csv in os.listdir('citibike_data/') if 'citibike-tripdata.csv' in csv]\n",
    "file_list.sort()"
   ]
  },
  {
   "cell_type": "code",
   "execution_count": null,
   "id": "0c3d0ed6",
   "metadata": {},
   "outputs": [],
   "source": [
    "#list comp for processing data\n",
    "\n",
    "for file in file_list:\n",
    "    print (f'Processing {file}')\n",
    "    process_rawdata(file)\n",
    "    print(f'Finshed {file}')"
   ]
  }
 ],
 "metadata": {
  "celltoolbar": "Raw Cell Format",
  "kernelspec": {
   "display_name": "Python 3 (ipykernel)",
   "language": "python",
   "name": "python3"
  },
  "language_info": {
   "codemirror_mode": {
    "name": "ipython",
    "version": 3
   },
   "file_extension": ".py",
   "mimetype": "text/x-python",
   "name": "python",
   "nbconvert_exporter": "python",
   "pygments_lexer": "ipython3",
   "version": "3.11.4"
  }
 },
 "nbformat": 4,
 "nbformat_minor": 5
}
